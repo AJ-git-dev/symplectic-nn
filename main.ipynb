{
 "cells": [
  {
   "cell_type": "code",
   "execution_count": null,
   "metadata": {},
   "outputs": [],
   "source": [
    "# This file is the 5 part program flow. \n",
    "\n",
    "import torch\n",
    "from model import area_preserving_NN\n",
    "from utils import generate_unit_disk, area_preservation_loss\n",
    "import matplotlib.pyplot as plt\n",
    "\n",
    "# Part 1 Establishing the domain, D. \n",
    "disk_np = generate_unit_disk(1000) # Default parameter value option exists in utils.py. \n",
    "disk = torch.tensor(disk_np, dtype=torch.float32) # Creating a PyTorch tensor using disk_np of type float32. \n",
    "                                                  # Taking sampled points as a trainable batch, disk (parameter x) ∈ R^(1000×2) to be passed to model(x), jacobian_determinant(model, x) and area_preservation_loss(model, x). \n",
    "\n",
    "# Part 2 Defining the neural network map.\n",
    "model = area_preserving_NN() # model = f_θ(x). Establishing the parametrized function f_θ(x). This function should learn an embedding satisfying |det(Jacobian)| ≈ 1. \n",
    "optimizer = torch.optim.Adam(model.parameters(), lr=0.001) # Adam optimizer updates all trainable parameters of 'model' using a learning rate of 0.001. \n",
    "\n",
    "\n",
    "# Part 3 and 4: Loss function call and training the network. Each epoch performs a forward pass through the model,\n",
    "# computes area preservation loss, and applies gradient-based parameter updates via Adam.\n",
    "losses = [] \n",
    "for epoch in range(5000):\n",
    "    optimizer.zero_grad()\n",
    "    loss = area_preservation_loss(model, disk)\n",
    "    loss.backward()\n",
    "    optimizer.step()\n",
    "    losses.append(loss.item())\n",
    "    if epoch % 500 == 0: # Print every 500th epoch's status. \n",
    "        print(\"Epoch \" + str(epoch) + \" | Loss: \" + str(loss.item()))\n",
    "\n",
    "\n",
    "# Part 5 Visualizing the results. \n",
    "with torch.no_grad():\n",
    "    mapped = model(disk).numpy()\n",
    "\n",
    "plt.figure(figsize=(10, 5))\n",
    "plt.subplot(1, 2, 1)\n",
    "plt.title(\"Original Disk\")\n",
    "plt.scatter(disk_np[:, 0], disk_np[:, 1], alpha=0.5, s=2)\n",
    "\n",
    "plt.subplot(1, 2, 2)\n",
    "plt.title(\"Mapped Shape After 5000 Epochs\")\n",
    "plt.scatter(mapped[:, 0], mapped[:, 1], alpha=0.5, s=2)\n",
    "plt.show()\n",
    "\n",
    "# Plot loss\n",
    "plt.figure()\n",
    "plt.title(\"Area Preservation Loss\")\n",
    "plt.plot(losses)\n",
    "plt.xlabel(\"Epoch\")\n",
    "plt.ylabel(\"Loss\")\n",
    "plt.show()\n"
   ]
  },
  {
   "cell_type": "code",
   "execution_count": null,
   "metadata": {},
   "outputs": [],
   "source": []
  }
 ],
 "metadata": {
  "kernelspec": {
   "display_name": "venv",
   "language": "python",
   "name": "python3"
  },
  "language_info": {
   "codemirror_mode": {
    "name": "ipython",
    "version": 3
   },
   "file_extension": ".py",
   "mimetype": "text/x-python",
   "name": "python",
   "nbconvert_exporter": "python",
   "pygments_lexer": "ipython3",
   "version": "3.12.3"
  }
 },
 "nbformat": 4,
 "nbformat_minor": 2
}
